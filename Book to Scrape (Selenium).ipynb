{
 "cells": [
  {
   "cell_type": "code",
   "execution_count": 94,
   "metadata": {},
   "outputs": [],
   "source": [
    "from selenium import webdriver\n",
    "from selenium.webdriver.chrome.service import Service\n",
    "from selenium.webdriver.common.by import By\n",
    "from selenium.webdriver.support.ui import WebDriverWait\n",
    "from selenium.webdriver.support import expected_conditions as EC\n",
    "import pandas as pd\n"
   ]
  },
  {
   "cell_type": "code",
   "execution_count": 95,
   "metadata": {},
   "outputs": [],
   "source": [
    "\n",
    "service = Service()\n",
    "\n",
    "options = webdriver.ChromeOptions()\n",
    "\n",
    "nav = webdriver.Chrome(service=service, options=options)\n",
    "\n",
    "nav.maximize_window()\n",
    "\n",
    "url = \"https://books.toscrape.com/\"\n",
    "\n",
    "nav.get(url)"
   ]
  },
  {
   "cell_type": "code",
   "execution_count": 96,
   "metadata": {},
   "outputs": [],
   "source": [
    "list_title = []\n",
    "list_prix = []\n",
    "stock = []"
   ]
  },
  {
   "cell_type": "code",
   "execution_count": 97,
   "metadata": {},
   "outputs": [
    {
     "name": "stdout",
     "output_type": "stream",
     "text": [
      "Plus de pages à scraper.\n"
     ]
    }
   ],
   "source": [
    "# Boucle pour scraper les livres\n",
    "while True:\n",
    "    # Récupérer les éléments sur la page actuelle\n",
    "    list_element = nav.find_elements(By.CLASS_NAME, 'product_pod')  # Récupérer les livres\n",
    "\n",
    "    # Scraper les informations pour chaque livre sur la page\n",
    "    for book in list_element:\n",
    "        title = book.find_element(By.TAG_NAME, 'h3').find_element(By.TAG_NAME, 'a').get_attribute('title')\n",
    "        list_title.append(title)\n",
    "\n",
    "        # Cliquer sur le livre pour accéder à la page de détails\n",
    "        book.find_element(By.TAG_NAME, 'h3').find_element(By.TAG_NAME, 'a').click()\n",
    "        \n",
    "        # Scraper le prix\n",
    "        prix = nav.find_element(By.CLASS_NAME, 'price_color').text.replace(\"£\", \"R$\")\n",
    "        list_prix.append(prix)\n",
    "\n",
    "        # Scraper la disponibilité en stock\n",
    "        val_stock = int(nav.find_element(By.CLASS_NAME, 'instock').text.replace(\"In stock (\", \"\").replace(\" available)\", \"\"))\n",
    "        stock.append(val_stock)\n",
    "\n",
    "        # Retourner à la page des livres\n",
    "        nav.back()\n",
    "\n",
    "    # Essayer de trouver le bouton \"Next\" pour passer à la page suivante\n",
    "    try:\n",
    "        next_button = WebDriverWait(nav, 10).until(\n",
    "            EC.element_to_be_clickable((By.LINK_TEXT, 'next')))\n",
    "        next_button.click()  # Cliquez sur le bouton \"Next\"\n",
    "    except:\n",
    "        print(\"Plus de pages à scraper.\")\n",
    "        break  # Quitter la boucle si le bouton \"Next\" n'est pas trouvé\n",
    "    # Créer un DataFrame avec les données collectées\n",
    "if len(list_title) == len(list_prix) == len(stock):\n",
    "    books_df = pd.DataFrame({\n",
    "        \"Livres\": list_title,\n",
    "        \"Prix\": list_prix,\n",
    "        \"Stock\": stock\n",
    "    })\n",
    "    \n",
    "    books_df.index += 1"
   ]
  },
  {
   "cell_type": "code",
   "execution_count": 98,
   "metadata": {},
   "outputs": [
    {
     "name": "stdout",
     "output_type": "stream",
     "text": [
      "                                                 Livres     Prix  Stock\n",
      "1                                  A Light in the Attic  R$51.77     22\n",
      "2                                    Tipping the Velvet  R$53.74     20\n",
      "3                                            Soumission  R$50.10     20\n",
      "4                                         Sharp Objects  R$47.82     20\n",
      "5                 Sapiens: A Brief History of Humankind  R$54.23     20\n",
      "...                                                 ...      ...    ...\n",
      "996   Alice in Wonderland (Alice's Adventures in Won...  R$55.53      1\n",
      "997    Ajin: Demi-Human, Volume 1 (Ajin: Demi-Human #1)  R$57.06      1\n",
      "998   A Spy's Devotion (The Regency Spies of London #1)  R$16.97      1\n",
      "999                 1st to Die (Women's Murder Club #1)  R$53.98      1\n",
      "1000                 1,000 Places to See Before You Die  R$26.08      1\n",
      "\n",
      "[1000 rows x 3 columns]\n"
     ]
    }
   ],
   "source": [
    "# Afficher le DataFrame\n",
    "print(books_df)"
   ]
  },
  {
   "cell_type": "code",
   "execution_count": 99,
   "metadata": {},
   "outputs": [],
   "source": [
    "# Enregistrer le DataFrame dans un fichier CSV\n",
    "books_df.to_csv('books_scraped.csv', index_label='Index', encoding='utf-8')\n",
    "\n",
    "# Fermer le navigateur\n",
    "nav.quit()"
   ]
  }
 ],
 "metadata": {
  "kernelspec": {
   "display_name": "Python 3",
   "language": "python",
   "name": "python3"
  },
  "language_info": {
   "codemirror_mode": {
    "name": "ipython",
    "version": 3
   },
   "file_extension": ".py",
   "mimetype": "text/x-python",
   "name": "python",
   "nbconvert_exporter": "python",
   "pygments_lexer": "ipython3",
   "version": "3.12.7"
  }
 },
 "nbformat": 4,
 "nbformat_minor": 2
}
